{
 "cells": [
  {
   "cell_type": "markdown",
   "metadata": {},
   "source": [
    "## 1. Library와 Framework의 차이\n"
   ]
  },
  {
   "cell_type": "markdown",
   "metadata": {},
   "source": [
    "### Library:\n",
    "- 라이브러리는 재사용되는 코드, 효율적인 코드, 특정기능을 수행하기 위해 호출할 수 있는 함수, 클래스, 모듈로 구성된다.코드에서 라이브러리를 활용하는구조\n",
    "\n",
    "### Framework:\n",
    "- 구조와 규칙을 제공하는 기반을 마련해주고, 프레임워크의 규칙대로 코드를 짜, 어플리케이션등을 구현하게 된다. "
   ]
  },
  {
   "cell_type": "markdown",
   "metadata": {},
   "source": [
    "## 2. 딥러닝과 머신러닝의 차이 "
   ]
  },
  {
   "cell_type": "markdown",
   "metadata": {},
   "source": [
    "### 딥러닝\n",
    "- 딥러닝은 머신러닝에 속하는 일부로, MLP(multi-layer-perceptron)을 활용한 여러가지 NN(Neural Network)를 통해  인간의 지능을 \n",
    "모방하여 예측, 분류, 번역 등의 역할을 수행할 수 잇도록 하는 기술이다\n",
    "\n",
    "### 머신러닝\n",
    "- 머신러닝은  예측, 분류, 번역 등의 여러가지 task 에 컴퓨팅, 통계적 기법을 활용하는 여러가지 기술들을 총망라한 것이다. \n",
    "\n",
    "일반적으로 딥러닝은 (딥러닝을 제외한) 머신러닝에 비해 더많은 데이터를 요구하고, 고성능의 컴퓨팅 환경이 요구된다. "
   ]
  }
 ],
 "metadata": {
  "kernelspec": {
   "display_name": "sudal",
   "language": "python",
   "name": "python3"
  },
  "language_info": {
   "name": "python",
   "version": "3.10.4"
  },
  "orig_nbformat": 4
 },
 "nbformat": 4,
 "nbformat_minor": 2
}
